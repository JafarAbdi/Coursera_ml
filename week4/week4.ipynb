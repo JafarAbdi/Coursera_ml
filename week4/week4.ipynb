{
 "cells": [
  {
   "cell_type": "code",
   "execution_count": 40,
   "metadata": {
    "collapsed": true
   },
   "outputs": [],
   "source": [
    "%matplotlib inline\n",
    "import matplotlib.pyplot as plt\n",
    "import numpy as np\n",
    "import matplotlib\n",
    "import scipy.io\n",
    "from scipy.special import expit as sigmoid\n",
    "import scipy.optimize "
   ]
  },
  {
   "cell_type": "code",
   "execution_count": 6,
   "metadata": {
    "collapsed": true
   },
   "outputs": [],
   "source": [
    "data = scipy.io.loadmat('ex3data1.mat')"
   ]
  },
  {
   "cell_type": "code",
   "execution_count": 19,
   "metadata": {},
   "outputs": [],
   "source": [
    "X = data['X']\n",
    "y = data['y']"
   ]
  },
  {
   "cell_type": "code",
   "execution_count": 80,
   "metadata": {},
   "outputs": [
    {
     "name": "stdout",
     "output_type": "stream",
     "text": [
      "[7]\n"
     ]
    },
    {
     "data": {
      "image/png": "[encoded data removed]",
      "text/plain": [
       "<matplotlib.figure.Figure at 0x7fa1805bbdd8>"
      ]
     },
     "metadata": {},
     "output_type": "display_data"
    }
   ],
   "source": [
    "ran_index = np.random.randint(5000)\n",
    "sample = X[ran_index, :]\n",
    "plt.imshow(sample.reshape(20, 20).T, cmap='Greys')\n",
    "print(y[ran_index])"
   ]
  },
  {
   "cell_type": "code",
   "execution_count": 36,
   "metadata": {},
   "outputs": [],
   "source": [
    "X_1aug = np.concatenate((np.ones((X.shape[0], 1)), X), axis=1)"
   ]
  },
  {
   "cell_type": "markdown",
   "metadata": {},
   "source": [
    "# Regularized logistic regression"
   ]
  },
  {
   "cell_type": "code",
   "execution_count": 42,
   "metadata": {
    "collapsed": true
   },
   "outputs": [],
   "source": [
    "def Gradient(w, X, Y, lam):\n",
    "    w = w.reshape(w.shape[0], 1)\n",
    "    m = X.shape[0]\n",
    "    z  = np.dot(X, w).reshape(X.shape[0], 1)\n",
    "    dJ = (1 / m) * np.sum((sigmoid(z) - Y) * X, axis=0) + (lam / m) * np.hstack((0, w[1:, 0]))\n",
    "    return dJ\n",
    "\n",
    "def CostFunction(w, X, Y, lam):\n",
    "    w = w.reshape(w.shape[0], 1)\n",
    "    m = X.shape[0]\n",
    "    z = np.dot(X, w)\n",
    "    J = (-1 / m) * np.sum((Y * np.log(sigmoid(z)) + (1 - Y) * np.log(1 - sigmoid(z)))) + (lam / (2 * m)) * np.dot(w[1:, 0], w[1:, 0])\n",
    "    return J"
   ]
  },
  {
   "cell_type": "code",
   "execution_count": 56,
   "metadata": {},
   "outputs": [
    {
     "name": "stdout",
     "output_type": "stream",
     "text": [
      "Optimization terminated successfully.\n",
      "         Current function value: 0.013128\n",
      "         Iterations: 286\n",
      "         Function evaluations: 287\n",
      "         Gradient evaluations: 287\n",
      "Optimization terminated successfully.\n",
      "         Current function value: 0.050810\n",
      "         Iterations: 439\n",
      "         Function evaluations: 440\n",
      "         Gradient evaluations: 440\n",
      "Optimization terminated successfully.\n",
      "         Current function value: 0.057612\n",
      "         Iterations: 424\n",
      "         Function evaluations: 425\n",
      "         Gradient evaluations: 425\n",
      "Optimization terminated successfully.\n",
      "         Current function value: 0.033075\n",
      "         Iterations: 396\n",
      "         Function evaluations: 397\n",
      "         Gradient evaluations: 397\n",
      "Optimization terminated successfully.\n",
      "         Current function value: 0.054466\n",
      "         Iterations: 433\n",
      "         Function evaluations: 434\n",
      "         Gradient evaluations: 434\n",
      "Optimization terminated successfully.\n",
      "         Current function value: 0.018265\n",
      "         Iterations: 362\n",
      "         Function evaluations: 363\n",
      "         Gradient evaluations: 363\n",
      "Optimization terminated successfully.\n",
      "         Current function value: 0.030653\n",
      "         Iterations: 362\n",
      "         Function evaluations: 363\n",
      "         Gradient evaluations: 363\n",
      "Optimization terminated successfully.\n",
      "         Current function value: 0.078457\n",
      "         Iterations: 456\n",
      "         Function evaluations: 457\n",
      "         Gradient evaluations: 457\n",
      "Optimization terminated successfully.\n",
      "         Current function value: 0.071193\n",
      "         Iterations: 440\n",
      "         Function evaluations: 441\n",
      "         Gradient evaluations: 441\n",
      "Optimization terminated successfully.\n",
      "         Current function value: 0.008583\n",
      "         Iterations: 288\n",
      "         Function evaluations: 289\n",
      "         Gradient evaluations: 289\n"
     ]
    }
   ],
   "source": [
    "lam = 0.1\n",
    "num_labels = 10\n",
    "theta = np.zeros((1, X_1aug.shape[1]))\n",
    "w = np.zeros((X_1aug.shape[1],))\n",
    "for label in range(1, num_labels + 1):\n",
    "    th = scipy.optimize.fmin_bfgs(f=CostFunction, x0=w.copy(), fprime=Gradient, args=(X_1aug, (y == label), lam))\n",
    "    theta = np.concatenate((theta, th.reshape(1, X_1aug.shape[1])), axis=0)\n"
   ]
  },
  {
   "cell_type": "code",
   "execution_count": 77,
   "metadata": {},
   "outputs": [],
   "source": [
    "outputs = np.unique(y)\n",
    "outputs[np.where(outputs == 10)] = 0"
   ]
  },
  {
   "cell_type": "code",
   "execution_count": 66,
   "metadata": {},
   "outputs": [],
   "source": [
    "t = np.delete(theta, 0, axis=0)"
   ]
  },
  {
   "cell_type": "markdown",
   "metadata": {},
   "source": [
    "# Predictions "
   ]
  },
  {
   "cell_type": "code",
   "execution_count": 87,
   "metadata": {},
   "outputs": [
    {
     "name": "stdout",
     "output_type": "stream",
     "text": [
      "the real value is [3], the predicted value is [3]\n"
     ]
    },
    {
     "data": {
      "image/png": "[encoded data removed]",
      "text/plain": [
       "<matplotlib.figure.Figure at 0x7fa17fb428d0>"
      ]
     },
     "metadata": {},
     "output_type": "display_data"
    }
   ],
   "source": [
    "# [1, 2, 3, 4, 5, 6, 7, 8, 0]\n",
    "ran_index = np.random.randint(5000)\n",
    "sample = X[ran_index, :]\n",
    "plt.imshow(sample.reshape(20, 20).T, cmap='Greys')\n",
    "pred = sigmoid(np.dot(t, X_1aug[ran_index, :])) >= 0.5 \n",
    "print('the real value is {}, the predicted value is {}'.format(y[ran_index], outputs[pred]))"
   ]
  },
  {
   "cell_type": "code",
   "execution_count": null,
   "metadata": {
    "collapsed": true
   },
   "outputs": [],
   "source": []
  }
 ],
 "metadata": {
  "kernelspec": {
   "display_name": "Python 3",
   "language": "python",
   "name": "python3"
  },
  "language_info": {
   "codemirror_mode": {
    "name": "ipython",
    "version": 3
   },
   "file_extension": ".py",
   "mimetype": "text/x-python",
   "name": "python",
   "nbconvert_exporter": "python",
   "pygments_lexer": "ipython3",
   "version": "3.5.3"
  },
  "widgets": {
   "state": {},
   "version": "1.1.2"
  }
 },
 "nbformat": 4,
 "nbformat_minor": 2
}
